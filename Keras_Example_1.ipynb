{
 "cells": [
  {
   "cell_type": "markdown",
   "metadata": {},
   "source": [
    "## 1. A Simple implementation of ANN for MNIST"
   ]
  },
  {
   "cell_type": "markdown",
   "metadata": {},
   "source": [
    "![](elephant.jpg)"
   ]
  },
  {
   "cell_type": "code",
   "execution_count": 2,
   "metadata": {},
   "outputs": [
    {
     "name": "stderr",
     "output_type": "stream",
     "text": [
      "Using TensorFlow backend.\n"
     ]
    }
   ],
   "source": [
    "import random\n",
    "import numpy as np\n",
    "import keras\n",
    "from keras.datasets import mnist\n",
    "from keras.models import Sequential, Model # both used for defining  the networks\n",
    "from keras.layers.core import Dense, Dropout, Activation # defining the layers\n",
    "from keras.optimizers import RMSprop, SGD\n",
    "from keras.utils import np_utils\n",
    "from keras import backend as K\n",
    "# IMAGE ORDERING: Tensorflow(64,64,3), Theano(3,64,64)\n",
    "K.set_image_dim_ordering('tf') # always check you are using the correct image dimension\n",
    "import matplotlib.pyplot as plt\n",
    "%matplotlib inline"
   ]
  },
  {
   "cell_type": "markdown",
   "metadata": {},
   "source": [
    "### Data Preprocessing "
   ]
  },
  {
   "cell_type": "code",
   "execution_count": 3,
   "metadata": {},
   "outputs": [
    {
     "name": "stdout",
     "output_type": "stream",
     "text": [
      "(60000, 28, 28) (60000,)\n",
      "(60000, 28, 28) (10000,)\n"
     ]
    }
   ],
   "source": [
    "# load the mnist datasets (auto or pre dowloaded in ./keras)\n",
    "(X_train, y_train), (X_test, y_test) = mnist.load_data()\n",
    "# ptint the data shape\n",
    "print(X_train.shape, y_train.shape)\n",
    "print(X_train.shape, y_test.shape)"
   ]
  },
  {
   "cell_type": "code",
   "execution_count": 4,
   "metadata": {},
   "outputs": [
    {
     "name": "stdout",
     "output_type": "stream",
     "text": [
      "60000 train samples\n",
      "10000 test samples\n"
     ]
    }
   ],
   "source": [
    "X_train = X_train.reshape(60000, 784)\n",
    "X_test = X_test.reshape(10000, 784)\n",
    "X_train = X_train.astype('float32')\n",
    "X_test = X_test.astype('float32')\n",
    "X_train /=255\n",
    "X_test /=255\n",
    "print(X_train.shape[0], 'train samples')\n",
    "print(X_test.shape[0], 'test samples') "
   ]
  },
  {
   "cell_type": "code",
   "execution_count": 5,
   "metadata": {},
   "outputs": [
    {
     "name": "stdout",
     "output_type": "stream",
     "text": [
      "(60000, 10)\n"
     ]
    }
   ],
   "source": [
    "batch_size = 128\n",
    "nb_classes = 10\n",
    "nb_epoch = 10\n",
    "# convert class vectors to binary class matrices for softmax layer\n",
    "Y_train  = keras.utils.np_utils.to_categorical(y_train, nb_classes)\n",
    "Y_test   = keras.utils.np_utils.to_categorical(y_test, nb_classes)\n",
    "# for example the one-hot encoding for number 6 is [0,0,0,0,0,0,1,0,0,0,0]\n",
    "print(Y_train.shape)"
   ]
  },
  {
   "cell_type": "markdown",
   "metadata": {},
   "source": [
    "### Model definition "
   ]
  },
  {
   "cell_type": "code",
   "execution_count": 6,
   "metadata": {
    "collapsed": true
   },
   "outputs": [],
   "source": [
    "model = Sequential()\n",
    "model.add(Dense(512,input_shape=(784,)))\n",
    "model.add(Activation('relu'))\n",
    "model.add(Dropout(0.2))\n",
    "model.add(Dense(512))\n",
    "model.add(Activation('relu'))\n",
    "model.add(Dropout(0.2))\n",
    "model.add(Dense(10))\n",
    "model.add(Activation('softmax'))"
   ]
  },
  {
   "cell_type": "code",
   "execution_count": 7,
   "metadata": {},
   "outputs": [
    {
     "name": "stdout",
     "output_type": "stream",
     "text": [
      "_________________________________________________________________\n",
      "Layer (type)                 Output Shape              Param #   \n",
      "=================================================================\n",
      "dense_1 (Dense)              (None, 512)               401920    \n",
      "_________________________________________________________________\n",
      "activation_1 (Activation)    (None, 512)               0         \n",
      "_________________________________________________________________\n",
      "dropout_1 (Dropout)          (None, 512)               0         \n",
      "_________________________________________________________________\n",
      "dense_2 (Dense)              (None, 512)               262656    \n",
      "_________________________________________________________________\n",
      "activation_2 (Activation)    (None, 512)               0         \n",
      "_________________________________________________________________\n",
      "dropout_2 (Dropout)          (None, 512)               0         \n",
      "_________________________________________________________________\n",
      "dense_3 (Dense)              (None, 10)                5130      \n",
      "_________________________________________________________________\n",
      "activation_3 (Activation)    (None, 10)                0         \n",
      "=================================================================\n",
      "Total params: 669,706\n",
      "Trainable params: 669,706\n",
      "Non-trainable params: 0\n",
      "_________________________________________________________________\n"
     ]
    }
   ],
   "source": [
    "model.summary()"
   ]
  },
  {
   "cell_type": "markdown",
   "metadata": {},
   "source": [
    "### Model compilation"
   ]
  },
  {
   "cell_type": "code",
   "execution_count": 8,
   "metadata": {
    "collapsed": true
   },
   "outputs": [],
   "source": [
    "model.compile(loss='categorical_crossentropy',\n",
    "              optimizer='rmsprop',#RMSprop()\n",
    "              metrics=['accuracy'])"
   ]
  },
  {
   "cell_type": "code",
   "execution_count": 9,
   "metadata": {},
   "outputs": [
    {
     "name": "stdout",
     "output_type": "stream",
     "text": [
      "Train on 60000 samples, validate on 10000 samples\n",
      "Epoch 1/10\n",
      "60000/60000 [==============================] - 2s - loss: 0.2480 - acc: 0.9230 - val_loss: 0.1020 - val_acc: 0.9696\n",
      "Epoch 2/10\n",
      "60000/60000 [==============================] - 1s - loss: 0.1037 - acc: 0.9692 - val_loss: 0.0793 - val_acc: 0.9758\n",
      "Epoch 3/10\n",
      "60000/60000 [==============================] - 1s - loss: 0.0750 - acc: 0.9774 - val_loss: 0.0935 - val_acc: 0.9734\n",
      "Epoch 4/10\n",
      "60000/60000 [==============================] - 1s - loss: 0.0626 - acc: 0.9813 - val_loss: 0.0854 - val_acc: 0.9781\n",
      "Epoch 5/10\n",
      "60000/60000 [==============================] - 1s - loss: 0.0506 - acc: 0.9849 - val_loss: 0.0886 - val_acc: 0.9783\n",
      "Epoch 6/10\n",
      "60000/60000 [==============================] - 1s - loss: 0.0445 - acc: 0.9862 - val_loss: 0.0746 - val_acc: 0.9820\n",
      "Epoch 7/10\n",
      "60000/60000 [==============================] - 1s - loss: 0.0388 - acc: 0.9881 - val_loss: 0.0814 - val_acc: 0.9818\n",
      "Epoch 8/10\n",
      "60000/60000 [==============================] - 1s - loss: 0.0338 - acc: 0.9895 - val_loss: 0.0808 - val_acc: 0.9839\n",
      "Epoch 9/10\n",
      "60000/60000 [==============================] - 1s - loss: 0.0308 - acc: 0.9908 - val_loss: 0.0873 - val_acc: 0.9813\n",
      "Epoch 10/10\n",
      "60000/60000 [==============================] - 1s - loss: 0.0286 - acc: 0.9913 - val_loss: 0.0913 - val_acc: 0.9821\n"
     ]
    }
   ],
   "source": [
    "history = model.fit(X_train,Y_train,\n",
    "                    batch_size = batch_size,epochs=nb_epoch,\n",
    "                    verbose=1,validation_data=(X_test, Y_test))"
   ]
  },
  {
   "cell_type": "code",
   "execution_count": 10,
   "metadata": {},
   "outputs": [
    {
     "data": {
      "text/plain": [
       "{'batch_size': 128,\n",
       " 'do_validation': True,\n",
       " 'epochs': 10,\n",
       " 'metrics': ['loss', 'acc', 'val_loss', 'val_acc'],\n",
       " 'samples': 60000,\n",
       " 'verbose': 1}"
      ]
     },
     "execution_count": 10,
     "metadata": {},
     "output_type": "execute_result"
    }
   ],
   "source": [
    "history.params # very useful in paper"
   ]
  },
  {
   "cell_type": "code",
   "execution_count": 11,
   "metadata": {},
   "outputs": [
    {
     "data": {
      "text/plain": [
       "{'acc': [0.9229833333651225,\n",
       "  0.96918333336512252,\n",
       "  0.97735000006357831,\n",
       "  0.98125000006357832,\n",
       "  0.98488333339691159,\n",
       "  0.98623333339691166,\n",
       "  0.98814999999999997,\n",
       "  0.98953333333333338,\n",
       "  0.99081666666666668,\n",
       "  0.99130000006357832],\n",
       " 'loss': [0.24796319204966227,\n",
       "  0.10373863806327184,\n",
       "  0.07497846727073193,\n",
       "  0.062563803289830688,\n",
       "  0.050574125162263714,\n",
       "  0.044493537303805349,\n",
       "  0.038753298271447419,\n",
       "  0.033807868295147397,\n",
       "  0.030844173294740419,\n",
       "  0.028569058305552852],\n",
       " 'val_acc': [0.96960000000000002,\n",
       "  0.9758,\n",
       "  0.97340000000000004,\n",
       "  0.97809999999999997,\n",
       "  0.97829999999999995,\n",
       "  0.98199999999999998,\n",
       "  0.98180000000000001,\n",
       "  0.9839,\n",
       "  0.98129999999999995,\n",
       "  0.98209999999999997],\n",
       " 'val_loss': [0.10197166910916566,\n",
       "  0.079328792314976457,\n",
       "  0.093479754989407957,\n",
       "  0.085367925584316259,\n",
       "  0.088614144746784584,\n",
       "  0.074631284947307724,\n",
       "  0.081413470945091104,\n",
       "  0.080776075378924728,\n",
       "  0.087265062270388077,\n",
       "  0.091262417124013881]}"
      ]
     },
     "execution_count": 11,
     "metadata": {},
     "output_type": "execute_result"
    }
   ],
   "source": [
    "history.history # a dictionary in python:loss-acc-val_acc-val_loss"
   ]
  },
  {
   "cell_type": "markdown",
   "metadata": {},
   "source": [
    "### Evaluation and Prediction"
   ]
  },
  {
   "cell_type": "code",
   "execution_count": 12,
   "metadata": {},
   "outputs": [
    {
     "name": "stdout",
     "output_type": "stream",
     "text": [
      "Test loss: 0.0912624169297\n",
      "Test acccuracy: 0.9821\n"
     ]
    }
   ],
   "source": [
    "score = model.evaluate(X_test, Y_test, verbose=0)\n",
    "print(\"Test loss:\", score[0])\n",
    "print(\"Test acccuracy:\", score[1])"
   ]
  },
  {
   "cell_type": "markdown",
   "metadata": {},
   "source": [
    "### Now let's predict one single sample"
   ]
  },
  {
   "cell_type": "code",
   "execution_count": 13,
   "metadata": {},
   "outputs": [
    {
     "data": {
      "text/plain": [
       "<matplotlib.image.AxesImage at 0x7f1a74fdb8d0>"
      ]
     },
     "execution_count": 13,
     "metadata": {},
     "output_type": "execute_result"
    },
    {
     "data": {
      "image/png": "[encoded data removed]",
      "text/plain": [
       "<matplotlib.figure.Figure at 0x7f1a75a28cc0>"
      ]
     },
     "metadata": {},
     "output_type": "display_data"
    }
   ],
   "source": [
    "X_test_0 = X_test[0,:].reshape(1,784)\n",
    "Y_test_0 = Y_test[0,:]\n",
    "plt.imshow(X_test_0.reshape((28,28)))"
   ]
  },
  {
   "cell_type": "code",
   "execution_count": 17,
   "metadata": {},
   "outputs": [
    {
     "name": "stdout",
     "output_type": "stream",
     "text": [
      "Label of testing sample:  7\n",
      "Output of the softmax layer [  2.96559541e-23   2.01053146e-14   2.80289148e-14   4.17422580e-14\n",
      "   1.41108353e-20   6.30270863e-17   7.78391670e-29   1.00000000e+00\n",
      "   1.48532998e-16   4.53321652e-13]\n",
      "Network prediction: 7\n"
     ]
    }
   ],
   "source": [
    "pred = model.predict(X_test_0[:])\n",
    "print('Label of testing sample: ',np.argmax(Y_test_0))\n",
    "print('Output of the softmax layer', pred[0])\n",
    "print('Network prediction:', np.argmax(pred[0]))# for the output is a probability distribution"
   ]
  }
 ],
 "metadata": {
  "kernelspec": {
   "display_name": "Python 3",
   "language": "python",
   "name": "python3"
  },
  "language_info": {
   "codemirror_mode": {
    "name": "ipython",
    "version": 3
   },
   "file_extension": ".py",
   "mimetype": "text/x-python",
   "name": "python",
   "nbconvert_exporter": "python",
   "pygments_lexer": "ipython3",
   "version": "3.6.2"
  }
 },
 "nbformat": 4,
 "nbformat_minor": 2
}
