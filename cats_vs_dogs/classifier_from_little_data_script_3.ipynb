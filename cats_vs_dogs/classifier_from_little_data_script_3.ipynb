{
 "cells": [
  {
   "cell_type": "markdown",
   "metadata": {},
   "source": [
    "'''This script goes along the blog post\n",
    "\"Building powerful image classification models using very little data\"\n",
    "from blog.keras.io.\n",
    "It uses data that can be downloaded at:\n",
    "https://www.kaggle.com/c/dogs-vs-cats/data\n",
    "In our setup, we:\n",
    "- created a data/ folder\n",
    "- created train/ and validation/ subfolders inside data/\n",
    "- created cats/ and dogs/ subfolders inside train/ and validation/\n",
    "- put the cat pictures index 0-999 in data/train/cats\n",
    "- put the cat pictures index 1000-1400 in data/validation/cats\n",
    "- put the dogs pictures index 12500-13499 in data/train/dogs\n",
    "- put the dog pictures index 13500-13900 in data/validation/dogs\n",
    "So that we have 1000 training examples for each class, and 400 validation examples for each class.\n",
    "In summary, this is our directory structure:\n",
    "```\n",
    "data/\n",
    "    train/\n",
    "        dogs/\n",
    "            dog001.jpg\n",
    "            dog002.jpg\n",
    "            ...\n",
    "        cats/\n",
    "            cat001.jpg\n",
    "            cat002.jpg\n",
    "            ...\n",
    "    validation/\n",
    "        dogs/\n",
    "            dog001.jpg\n",
    "            dog002.jpg\n",
    "            ...\n",
    "        cats/\n",
    "            cat001.jpg\n",
    "            cat002.jpg\n",
    "            ...\n",
    "```\n",
    "'''"
   ]
  },
  {
   "cell_type": "markdown",
   "metadata": {},
   "source": [
    "![Bottleneck_features_original](./pictures/vgg16_modified.png)"
   ]
  },
  {
   "cell_type": "code",
   "execution_count": 1,
   "metadata": {},
   "outputs": [
    {
     "name": "stderr",
     "output_type": "stream",
     "text": [
      "Using TensorFlow backend.\n"
     ]
    }
   ],
   "source": [
    "from keras import applications\n",
    "from keras.preprocessing.image import ImageDataGenerator\n",
    "from keras import optimizers\n",
    "from keras.models import Sequential\n",
    "from keras.models import Model\n",
    "from keras.layers import Dropout, Flatten, Dense"
   ]
  },
  {
   "cell_type": "code",
   "execution_count": 8,
   "metadata": {
    "collapsed": true
   },
   "outputs": [],
   "source": [
    "# path to the model weights files.\n",
    "weights_path = 'vgg16_weights.h5' \n",
    "# 'vgg16_weights.h5'  download link: https://gist.github.com/baraldilorenzo/07d7802847aaad0a35d3\n",
    "top_model_weights_path = 'bottleneck_fc_model.h5'\n",
    "# 'bottleneck_fc_model.h5' from the result of classifier_from_little_data_script_2\n",
    "# dimensions of our images.\n",
    "img_width, img_height = 150, 150\n",
    "\n",
    "train_data_dir = 'data/train'\n",
    "validation_data_dir = 'data/validation'\n",
    "nb_train_samples = 2000\n",
    "nb_validation_samples = 800\n",
    "epochs = 50\n",
    "batch_size = 16"
   ]
  },
  {
   "cell_type": "code",
   "execution_count": 3,
   "metadata": {},
   "outputs": [
    {
     "name": "stdout",
     "output_type": "stream",
     "text": [
      "Model loaded.\n"
     ]
    }
   ],
   "source": [
    "# build the VGG16 network\n",
    "base_model = applications.VGG16(weights='imagenet', include_top=False, input_shape=(150,150,3))\n",
    "print('Model loaded.')\n",
    "\n",
    "# build a classifier model to put on top of the convolutional model\n",
    "top_model = Sequential()\n",
    "top_model.add(Flatten(input_shape=base_model.output_shape[1:]))\n",
    "top_model.add(Dense(256, activation='relu'))\n",
    "top_model.add(Dropout(0.5))\n",
    "top_model.add(Dense(1, activation='sigmoid'))\n",
    "\n",
    "# note that it is necessary to start with a fully-trained\n",
    "# classifier, including the top classifier,\n",
    "# in order to successfully do fine-tuning\n",
    "top_model.load_weights(top_model_weights_path)\n",
    "\n",
    "# add the model on top of the convolutional base\n",
    "# model.add(top_model)\n",
    "model = Model(inputs=base_model.input, outputs=top_model(base_model.output))"
   ]
  },
  {
   "cell_type": "code",
   "execution_count": 4,
   "metadata": {
    "collapsed": true
   },
   "outputs": [],
   "source": [
    "# set the first 25 layers (up to the last conv block)\n",
    "# to non-trainable (weights will not be updated)\n",
    "for layer in model.layers[:15]:\n",
    "    layer.trainable = False"
   ]
  },
  {
   "cell_type": "code",
   "execution_count": 5,
   "metadata": {
    "collapsed": true
   },
   "outputs": [],
   "source": [
    "# compile the model with a SGD/momentum optimizer\n",
    "# and a very slow learning rate.\n",
    "model.compile(loss='binary_crossentropy',\n",
    "              optimizer=optimizers.SGD(lr=1e-4, momentum=0.9),\n",
    "              metrics=['accuracy'])"
   ]
  },
  {
   "cell_type": "code",
   "execution_count": 6,
   "metadata": {},
   "outputs": [
    {
     "name": "stdout",
     "output_type": "stream",
     "text": [
      "Found 2000 images belonging to 2 classes.\n",
      "Found 802 images belonging to 2 classes.\n",
      "_________________________________________________________________\n",
      "Layer (type)                 Output Shape              Param #   \n",
      "=================================================================\n",
      "input_1 (InputLayer)         (None, 150, 150, 3)       0         \n",
      "_________________________________________________________________\n",
      "block1_conv1 (Conv2D)        (None, 150, 150, 64)      1792      \n",
      "_________________________________________________________________\n",
      "block1_conv2 (Conv2D)        (None, 150, 150, 64)      36928     \n",
      "_________________________________________________________________\n",
      "block1_pool (MaxPooling2D)   (None, 75, 75, 64)        0         \n",
      "_________________________________________________________________\n",
      "block2_conv1 (Conv2D)        (None, 75, 75, 128)       73856     \n",
      "_________________________________________________________________\n",
      "block2_conv2 (Conv2D)        (None, 75, 75, 128)       147584    \n",
      "_________________________________________________________________\n",
      "block2_pool (MaxPooling2D)   (None, 37, 37, 128)       0         \n",
      "_________________________________________________________________\n",
      "block3_conv1 (Conv2D)        (None, 37, 37, 256)       295168    \n",
      "_________________________________________________________________\n",
      "block3_conv2 (Conv2D)        (None, 37, 37, 256)       590080    \n",
      "_________________________________________________________________\n",
      "block3_conv3 (Conv2D)        (None, 37, 37, 256)       590080    \n",
      "_________________________________________________________________\n",
      "block3_pool (MaxPooling2D)   (None, 18, 18, 256)       0         \n",
      "_________________________________________________________________\n",
      "block4_conv1 (Conv2D)        (None, 18, 18, 512)       1180160   \n",
      "_________________________________________________________________\n",
      "block4_conv2 (Conv2D)        (None, 18, 18, 512)       2359808   \n",
      "_________________________________________________________________\n",
      "block4_conv3 (Conv2D)        (None, 18, 18, 512)       2359808   \n",
      "_________________________________________________________________\n",
      "block4_pool (MaxPooling2D)   (None, 9, 9, 512)         0         \n",
      "_________________________________________________________________\n",
      "block5_conv1 (Conv2D)        (None, 9, 9, 512)         2359808   \n",
      "_________________________________________________________________\n",
      "block5_conv2 (Conv2D)        (None, 9, 9, 512)         2359808   \n",
      "_________________________________________________________________\n",
      "block5_conv3 (Conv2D)        (None, 9, 9, 512)         2359808   \n",
      "_________________________________________________________________\n",
      "block5_pool (MaxPooling2D)   (None, 4, 4, 512)         0         \n",
      "_________________________________________________________________\n",
      "sequential_1 (Sequential)    (None, 1)                 2097665   \n",
      "=================================================================\n",
      "Total params: 16,812,353\n",
      "Trainable params: 9,177,089\n",
      "Non-trainable params: 7,635,264\n",
      "_________________________________________________________________\n"
     ]
    }
   ],
   "source": [
    "# prepare data augmentation configuration\n",
    "train_datagen = ImageDataGenerator(\n",
    "    rescale=1. / 255,\n",
    "    shear_range=0.2,\n",
    "    zoom_range=0.2,\n",
    "    horizontal_flip=True)\n",
    "\n",
    "test_datagen = ImageDataGenerator(rescale=1. / 255)\n",
    "\n",
    "train_generator = train_datagen.flow_from_directory(\n",
    "    train_data_dir,\n",
    "    target_size=(img_height, img_width),\n",
    "    batch_size=batch_size,\n",
    "    class_mode='binary')\n",
    "\n",
    "validation_generator = test_datagen.flow_from_directory(\n",
    "    validation_data_dir,\n",
    "    target_size=(img_height, img_width),\n",
    "    batch_size=batch_size,\n",
    "    class_mode='binary')\n",
    "\n",
    "model.summary()"
   ]
  },
  {
   "cell_type": "code",
   "execution_count": 9,
   "metadata": {},
   "outputs": [
    {
     "name": "stdout",
     "output_type": "stream",
     "text": [
      "Epoch 1/50\n",
      "11s - loss: 0.1767 - acc: 0.9340 - val_loss: 0.2857 - val_acc: 0.9262\n",
      "Epoch 2/50\n",
      "10s - loss: 0.1650 - acc: 0.9370 - val_loss: 0.3118 - val_acc: 0.9084\n",
      "Epoch 3/50\n",
      "10s - loss: 0.1443 - acc: 0.9525 - val_loss: 0.3161 - val_acc: 0.9173\n",
      "Epoch 4/50\n",
      "10s - loss: 0.1331 - acc: 0.9555 - val_loss: 0.2941 - val_acc: 0.9288\n",
      "Epoch 5/50\n",
      "10s - loss: 0.0879 - acc: 0.9675 - val_loss: 0.3051 - val_acc: 0.9275\n",
      "Epoch 6/50\n",
      "10s - loss: 0.0906 - acc: 0.9655 - val_loss: 0.5398 - val_acc: 0.8779\n",
      "Epoch 7/50\n",
      "10s - loss: 0.0942 - acc: 0.9625 - val_loss: 0.3901 - val_acc: 0.9148\n",
      "Epoch 8/50\n",
      "10s - loss: 0.0743 - acc: 0.9715 - val_loss: 0.3263 - val_acc: 0.9071\n",
      "Epoch 9/50\n",
      "10s - loss: 0.0920 - acc: 0.9705 - val_loss: 0.3483 - val_acc: 0.9160\n",
      "Epoch 10/50\n",
      "10s - loss: 0.0648 - acc: 0.9785 - val_loss: 0.3489 - val_acc: 0.9173\n",
      "Epoch 11/50\n",
      "10s - loss: 0.0489 - acc: 0.9790 - val_loss: 0.4499 - val_acc: 0.9211\n",
      "Epoch 12/50\n",
      "10s - loss: 0.0612 - acc: 0.9775 - val_loss: 0.3002 - val_acc: 0.9313\n",
      "Epoch 13/50\n",
      "10s - loss: 0.0430 - acc: 0.9865 - val_loss: 0.2984 - val_acc: 0.9326\n",
      "Epoch 14/50\n",
      "10s - loss: 0.0567 - acc: 0.9850 - val_loss: 0.3238 - val_acc: 0.9237\n",
      "Epoch 15/50\n",
      "10s - loss: 0.0517 - acc: 0.9850 - val_loss: 0.3390 - val_acc: 0.9224\n",
      "Epoch 16/50\n",
      "10s - loss: 0.0499 - acc: 0.9855 - val_loss: 0.3587 - val_acc: 0.9211\n",
      "Epoch 17/50\n",
      "10s - loss: 0.0319 - acc: 0.9870 - val_loss: 0.3988 - val_acc: 0.9326\n",
      "Epoch 18/50\n",
      "10s - loss: 0.0395 - acc: 0.9850 - val_loss: 0.4811 - val_acc: 0.9211\n",
      "Epoch 19/50\n",
      "10s - loss: 0.0266 - acc: 0.9910 - val_loss: 0.5433 - val_acc: 0.9224\n",
      "Epoch 20/50\n",
      "10s - loss: 0.0407 - acc: 0.9915 - val_loss: 0.5118 - val_acc: 0.9186\n",
      "Epoch 21/50\n",
      "10s - loss: 0.0313 - acc: 0.9890 - val_loss: 0.4797 - val_acc: 0.9046\n",
      "Epoch 22/50\n",
      "10s - loss: 0.0440 - acc: 0.9870 - val_loss: 0.3538 - val_acc: 0.9313\n",
      "Epoch 23/50\n",
      "10s - loss: 0.0267 - acc: 0.9905 - val_loss: 0.3413 - val_acc: 0.9288\n",
      "Epoch 24/50\n",
      "10s - loss: 0.0291 - acc: 0.9910 - val_loss: 0.4259 - val_acc: 0.9300\n",
      "Epoch 25/50\n",
      "10s - loss: 0.0174 - acc: 0.9945 - val_loss: 0.5037 - val_acc: 0.9288\n",
      "Epoch 26/50\n",
      "10s - loss: 0.0229 - acc: 0.9920 - val_loss: 0.3841 - val_acc: 0.9377\n",
      "Epoch 27/50\n",
      "10s - loss: 0.0197 - acc: 0.9925 - val_loss: 0.4028 - val_acc: 0.9313\n",
      "Epoch 28/50\n",
      "10s - loss: 0.0252 - acc: 0.9935 - val_loss: 0.3851 - val_acc: 0.9313\n",
      "Epoch 29/50\n",
      "10s - loss: 0.0247 - acc: 0.9905 - val_loss: 0.3263 - val_acc: 0.9415\n",
      "Epoch 30/50\n",
      "10s - loss: 0.0256 - acc: 0.9930 - val_loss: 0.4254 - val_acc: 0.9211\n",
      "Epoch 31/50\n",
      "10s - loss: 0.0171 - acc: 0.9935 - val_loss: 0.3750 - val_acc: 0.9262\n",
      "Epoch 32/50\n",
      "10s - loss: 0.0112 - acc: 0.9970 - val_loss: 0.3062 - val_acc: 0.9491\n",
      "Epoch 33/50\n",
      "10s - loss: 0.0117 - acc: 0.9960 - val_loss: 0.4720 - val_acc: 0.9326\n",
      "Epoch 34/50\n",
      "10s - loss: 0.0101 - acc: 0.9970 - val_loss: 0.5002 - val_acc: 0.9186\n",
      "Epoch 35/50\n",
      "10s - loss: 0.0247 - acc: 0.9955 - val_loss: 0.3084 - val_acc: 0.9313\n",
      "Epoch 36/50\n",
      "10s - loss: 0.0171 - acc: 0.9950 - val_loss: 0.3681 - val_acc: 0.9148\n",
      "Epoch 37/50\n",
      "10s - loss: 0.0163 - acc: 0.9950 - val_loss: 0.4624 - val_acc: 0.9249\n",
      "Epoch 38/50\n",
      "10s - loss: 0.0238 - acc: 0.9920 - val_loss: 0.5611 - val_acc: 0.9008\n",
      "Epoch 39/50\n",
      "10s - loss: 0.0091 - acc: 0.9975 - val_loss: 0.4135 - val_acc: 0.9364\n",
      "Epoch 40/50\n",
      "10s - loss: 0.0066 - acc: 0.9970 - val_loss: 0.5577 - val_acc: 0.9186\n",
      "Epoch 41/50\n",
      "10s - loss: 0.0245 - acc: 0.9930 - val_loss: 0.3371 - val_acc: 0.9377\n",
      "Epoch 42/50\n",
      "10s - loss: 0.0144 - acc: 0.9950 - val_loss: 0.3869 - val_acc: 0.9275\n",
      "Epoch 43/50\n",
      "10s - loss: 0.0037 - acc: 0.9985 - val_loss: 0.4278 - val_acc: 0.9313\n",
      "Epoch 44/50\n",
      "10s - loss: 0.0090 - acc: 0.9965 - val_loss: 0.4261 - val_acc: 0.9351\n",
      "Epoch 45/50\n",
      "10s - loss: 0.0208 - acc: 0.9945 - val_loss: 0.4965 - val_acc: 0.9249\n",
      "Epoch 46/50\n",
      "11s - loss: 0.0053 - acc: 0.9980 - val_loss: 0.5036 - val_acc: 0.9262\n",
      "Epoch 47/50\n",
      "10s - loss: 0.0156 - acc: 0.9940 - val_loss: 0.4204 - val_acc: 0.9288\n",
      "Epoch 48/50\n",
      "10s - loss: 0.0106 - acc: 0.9970 - val_loss: 0.4184 - val_acc: 0.9211\n",
      "Epoch 49/50\n",
      "10s - loss: 0.0095 - acc: 0.9975 - val_loss: 0.4401 - val_acc: 0.9326\n",
      "Epoch 50/50\n",
      "11s - loss: 0.0058 - acc: 0.9980 - val_loss: 0.3742 - val_acc: 0.9326\n"
     ]
    },
    {
     "data": {
      "text/plain": [
       "<keras.callbacks.History at 0x7f105faa6128>"
      ]
     },
     "execution_count": 9,
     "metadata": {},
     "output_type": "execute_result"
    }
   ],
   "source": [
    "# fine-tune the model\n",
    "model.fit_generator(\n",
    "    train_generator,\n",
    "    steps_per_epoch=nb_train_samples // batch_size,\n",
    "    epochs=epochs,\n",
    "    validation_data=validation_generator,\n",
    "    validation_steps=nb_validation_samples // batch_size,\n",
    "    verbose=2)"
   ]
  }
 ],
 "metadata": {
  "kernelspec": {
   "display_name": "Python 3",
   "language": "python",
   "name": "python3"
  },
  "language_info": {
   "codemirror_mode": {
    "name": "ipython",
    "version": 3
   },
   "file_extension": ".py",
   "mimetype": "text/x-python",
   "name": "python",
   "nbconvert_exporter": "python",
   "pygments_lexer": "ipython3",
   "version": "3.6.2"
  }
 },
 "nbformat": 4,
 "nbformat_minor": 2
}
