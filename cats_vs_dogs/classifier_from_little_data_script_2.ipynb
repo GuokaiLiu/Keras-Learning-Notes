{
 "cells": [
  {
   "cell_type": "markdown",
   "metadata": {},
   "source": [
    "'''This script goes along the blog post\n",
    "\"Building powerful image classification models using very little data\"\n",
    "from blog.keras.io.\n",
    "It uses data that can be downloaded at:\n",
    "https://www.kaggle.com/c/dogs-vs-cats/data\n",
    "In our setup, we:\n",
    "- created a data/ folder\n",
    "- created train/ and validation/ subfolders inside data/\n",
    "- created cats/ and dogs/ subfolders inside train/ and validation/\n",
    "- put the cat pictures index 0-999 in data/train/cats\n",
    "- put the cat pictures index 1000-1400 in data/validation/cats\n",
    "- put the dogs pictures index 12500-13499 in data/train/dogs\n",
    "- put the dog pictures index 13500-13900 in data/validation/dogs\n",
    "So that we have 1000 training examples for each class, and 400 validation examples for each class.\n",
    "In summary, this is our directory structure:\n",
    "```\n",
    "data/\n",
    "    train/\n",
    "        dogs/\n",
    "            dog001.jpg\n",
    "            dog002.jpg\n",
    "            ...\n",
    "        cats/\n",
    "            cat001.jpg\n",
    "            cat002.jpg\n",
    "            ...\n",
    "    validation/\n",
    "        dogs/\n",
    "            dog001.jpg\n",
    "            dog002.jpg\n",
    "            ...\n",
    "        cats/\n",
    "            cat001.jpg\n",
    "            cat002.jpg\n",
    "            ...\n",
    "```\n",
    "'''"
   ]
  },
  {
   "cell_type": "code",
   "execution_count": 8,
   "metadata": {
    "collapsed": true
   },
   "outputs": [],
   "source": [
    "import numpy as np\n",
    "from keras.preprocessing.image import ImageDataGenerator\n",
    "from keras.models import Sequential\n",
    "from keras.layers import Dropout, Flatten, Dense\n",
    "from keras import applications"
   ]
  },
  {
   "cell_type": "code",
   "execution_count": 9,
   "metadata": {
    "collapsed": true
   },
   "outputs": [],
   "source": [
    "# dimensions of our images.\n",
    "img_width, img_height = 150, 150\n",
    "\n",
    "top_model_weights_path = 'bottleneck_fc_model.h5'\n",
    "train_data_dir = 'data/train'\n",
    "validation_data_dir = 'data/validation'\n",
    "nb_train_samples = 2000\n",
    "nb_validation_samples = 800\n",
    "epochs = 50\n",
    "batch_size = 16"
   ]
  },
  {
   "cell_type": "markdown",
   "metadata": {},
   "source": [
    "![Bottleneck_features_original](./pictures/vgg16_original.png)"
   ]
  },
  {
   "cell_type": "code",
   "execution_count": 10,
   "metadata": {
    "collapsed": true
   },
   "outputs": [],
   "source": [
    "def save_bottlebeck_features():\n",
    "    datagen = ImageDataGenerator(rescale=1. / 255)\n",
    "\n",
    "    # build the VGG16 network\n",
    "    model = applications.VGG16(include_top=False, weights='imagenet')\n",
    "\n",
    "    generator = datagen.flow_from_directory(\n",
    "        train_data_dir,\n",
    "        target_size=(img_width, img_height),\n",
    "        batch_size=batch_size,\n",
    "        class_mode=None,\n",
    "        shuffle=False)\n",
    "    bottleneck_features_train = model.predict_generator(\n",
    "        generator, nb_train_samples // batch_size)\n",
    "    np.save('bottleneck_features_train.npy',\n",
    "            bottleneck_features_train)\n",
    "\n",
    "    generator = datagen.flow_from_directory(\n",
    "        validation_data_dir,\n",
    "        target_size=(img_width, img_height),\n",
    "        batch_size=batch_size,\n",
    "        class_mode=None,\n",
    "        shuffle=False)\n",
    "    bottleneck_features_validation = model.predict_generator(\n",
    "        generator, nb_validation_samples // batch_size)\n",
    "    np.save('bottleneck_features_validation.npy',\n",
    "            bottleneck_features_validation)"
   ]
  },
  {
   "cell_type": "code",
   "execution_count": 11,
   "metadata": {
    "collapsed": true
   },
   "outputs": [],
   "source": [
    "def train_top_model():\n",
    "    train_data = np.load('bottleneck_features_train.npy')\n",
    "    train_labels = np.array(\n",
    "        [0] * (nb_train_samples // 2) + [1] * (nb_train_samples // 2))\n",
    "\n",
    "    validation_data = np.load('bottleneck_features_validation.npy')\n",
    "    validation_labels = np.array(\n",
    "        [0] * (nb_validation_samples // 2) + [1] * (nb_validation_samples // 2))\n",
    "\n",
    "    model = Sequential()\n",
    "    model.add(Flatten(input_shape=train_data.shape[1:]))\n",
    "    model.add(Dense(256, activation='relu'))\n",
    "    model.add(Dropout(0.5))\n",
    "    model.add(Dense(1, activation='sigmoid'))\n",
    "\n",
    "    model.compile(optimizer='rmsprop',\n",
    "                  loss='binary_crossentropy', metrics=['accuracy'])\n",
    "\n",
    "    model.fit(train_data, train_labels,\n",
    "              epochs=epochs,\n",
    "              batch_size=batch_size,\n",
    "              validation_data=(validation_data, validation_labels))\n",
    "    model.save_weights(top_model_weights_path)"
   ]
  },
  {
   "cell_type": "code",
   "execution_count": 12,
   "metadata": {},
   "outputs": [
    {
     "name": "stdout",
     "output_type": "stream",
     "text": [
      "Found 2000 images belonging to 2 classes.\n",
      "Found 802 images belonging to 2 classes.\n"
     ]
    }
   ],
   "source": [
    "save_bottlebeck_features()"
   ]
  },
  {
   "cell_type": "code",
   "execution_count": 13,
   "metadata": {},
   "outputs": [
    {
     "name": "stdout",
     "output_type": "stream",
     "text": [
      "Train on 2000 samples, validate on 800 samples\n",
      "Epoch 1/50\n",
      "2000/2000 [==============================] - 0s - loss: 0.7451 - acc: 0.7425 - val_loss: 0.2680 - val_acc: 0.8950\n",
      "Epoch 2/50\n",
      "2000/2000 [==============================] - 0s - loss: 0.3576 - acc: 0.8550 - val_loss: 0.2401 - val_acc: 0.9075\n",
      "Epoch 3/50\n",
      "2000/2000 [==============================] - 0s - loss: 0.3166 - acc: 0.8790 - val_loss: 0.2862 - val_acc: 0.8788\n",
      "Epoch 4/50\n",
      "2000/2000 [==============================] - 0s - loss: 0.2435 - acc: 0.9025 - val_loss: 0.2338 - val_acc: 0.9062\n",
      "Epoch 5/50\n",
      "2000/2000 [==============================] - 0s - loss: 0.2093 - acc: 0.9165 - val_loss: 0.2517 - val_acc: 0.9012\n",
      "Epoch 6/50\n",
      "2000/2000 [==============================] - 0s - loss: 0.1865 - acc: 0.9240 - val_loss: 0.3530 - val_acc: 0.8838\n",
      "Epoch 7/50\n",
      "2000/2000 [==============================] - 0s - loss: 0.1651 - acc: 0.9365 - val_loss: 0.3054 - val_acc: 0.9087\n",
      "Epoch 8/50\n",
      "2000/2000 [==============================] - 0s - loss: 0.1443 - acc: 0.9455 - val_loss: 0.3615 - val_acc: 0.8900\n",
      "Epoch 9/50\n",
      "2000/2000 [==============================] - 0s - loss: 0.1271 - acc: 0.9540 - val_loss: 0.3679 - val_acc: 0.8962\n",
      "Epoch 10/50\n",
      "2000/2000 [==============================] - 0s - loss: 0.1289 - acc: 0.9485 - val_loss: 0.4080 - val_acc: 0.8900\n",
      "Epoch 11/50\n",
      "2000/2000 [==============================] - 0s - loss: 0.1023 - acc: 0.9605 - val_loss: 0.4052 - val_acc: 0.9012\n",
      "Epoch 12/50\n",
      "2000/2000 [==============================] - 0s - loss: 0.0925 - acc: 0.9665 - val_loss: 0.5113 - val_acc: 0.8788\n",
      "Epoch 13/50\n",
      "2000/2000 [==============================] - 0s - loss: 0.0742 - acc: 0.9705 - val_loss: 0.4237 - val_acc: 0.9062\n",
      "Epoch 14/50\n",
      "2000/2000 [==============================] - 0s - loss: 0.0831 - acc: 0.9705 - val_loss: 0.4299 - val_acc: 0.9050\n",
      "Epoch 15/50\n",
      "2000/2000 [==============================] - 0s - loss: 0.0585 - acc: 0.9765 - val_loss: 0.5321 - val_acc: 0.9000\n",
      "Epoch 16/50\n",
      "2000/2000 [==============================] - 0s - loss: 0.0655 - acc: 0.9755 - val_loss: 0.5279 - val_acc: 0.9038\n",
      "Epoch 17/50\n",
      "2000/2000 [==============================] - 0s - loss: 0.0627 - acc: 0.9755 - val_loss: 0.5359 - val_acc: 0.9050\n",
      "Epoch 18/50\n",
      "2000/2000 [==============================] - 0s - loss: 0.0535 - acc: 0.9800 - val_loss: 0.5254 - val_acc: 0.9075\n",
      "Epoch 19/50\n",
      "2000/2000 [==============================] - 0s - loss: 0.0613 - acc: 0.9750 - val_loss: 0.5757 - val_acc: 0.8975\n",
      "Epoch 20/50\n",
      "2000/2000 [==============================] - 0s - loss: 0.0477 - acc: 0.9850 - val_loss: 0.6194 - val_acc: 0.9038\n",
      "Epoch 21/50\n",
      "2000/2000 [==============================] - 0s - loss: 0.0408 - acc: 0.9845 - val_loss: 0.6237 - val_acc: 0.8888\n",
      "Epoch 22/50\n",
      "2000/2000 [==============================] - 0s - loss: 0.0330 - acc: 0.9880 - val_loss: 0.7145 - val_acc: 0.8975\n",
      "Epoch 23/50\n",
      "2000/2000 [==============================] - 0s - loss: 0.0422 - acc: 0.9835 - val_loss: 0.7141 - val_acc: 0.8812\n",
      "Epoch 24/50\n",
      "2000/2000 [==============================] - 0s - loss: 0.0332 - acc: 0.9880 - val_loss: 0.9004 - val_acc: 0.8775\n",
      "Epoch 25/50\n",
      "2000/2000 [==============================] - 0s - loss: 0.0283 - acc: 0.9900 - val_loss: 0.8152 - val_acc: 0.8738\n",
      "Epoch 26/50\n",
      "2000/2000 [==============================] - ETA: 0s - loss: 0.0405 - acc: 0.988 - 0s - loss: 0.0400 - acc: 0.9880 - val_loss: 0.8057 - val_acc: 0.8888\n",
      "Epoch 27/50\n",
      "2000/2000 [==============================] - 0s - loss: 0.0228 - acc: 0.9940 - val_loss: 0.8424 - val_acc: 0.8912\n",
      "Epoch 28/50\n",
      "2000/2000 [==============================] - 0s - loss: 0.0310 - acc: 0.9915 - val_loss: 0.7783 - val_acc: 0.8862\n",
      "Epoch 29/50\n",
      "2000/2000 [==============================] - 0s - loss: 0.0190 - acc: 0.9940 - val_loss: 0.7827 - val_acc: 0.9000\n",
      "Epoch 30/50\n",
      "2000/2000 [==============================] - 0s - loss: 0.0383 - acc: 0.9880 - val_loss: 0.7460 - val_acc: 0.8975\n",
      "Epoch 31/50\n",
      "2000/2000 [==============================] - 0s - loss: 0.0327 - acc: 0.9905 - val_loss: 0.8745 - val_acc: 0.8875\n",
      "Epoch 32/50\n",
      "2000/2000 [==============================] - 0s - loss: 0.0128 - acc: 0.9950 - val_loss: 0.8201 - val_acc: 0.8950\n",
      "Epoch 33/50\n",
      "2000/2000 [==============================] - 0s - loss: 0.0249 - acc: 0.9910 - val_loss: 0.8582 - val_acc: 0.8888\n",
      "Epoch 34/50\n",
      "2000/2000 [==============================] - 0s - loss: 0.0209 - acc: 0.9925 - val_loss: 0.7921 - val_acc: 0.8988\n",
      "Epoch 35/50\n",
      "2000/2000 [==============================] - 0s - loss: 0.0055 - acc: 0.9985 - val_loss: 0.8147 - val_acc: 0.9012\n",
      "Epoch 36/50\n",
      "2000/2000 [==============================] - 0s - loss: 0.0158 - acc: 0.9935 - val_loss: 0.9297 - val_acc: 0.8888\n",
      "Epoch 37/50\n",
      "2000/2000 [==============================] - 0s - loss: 0.0263 - acc: 0.9930 - val_loss: 0.9060 - val_acc: 0.8875\n",
      "Epoch 38/50\n",
      "2000/2000 [==============================] - 0s - loss: 0.0222 - acc: 0.9965 - val_loss: 0.8482 - val_acc: 0.9012\n",
      "Epoch 39/50\n",
      "2000/2000 [==============================] - 0s - loss: 0.0094 - acc: 0.9970 - val_loss: 1.0147 - val_acc: 0.8800\n",
      "Epoch 40/50\n",
      "2000/2000 [==============================] - 0s - loss: 0.0178 - acc: 0.9925 - val_loss: 0.9227 - val_acc: 0.8850\n",
      "Epoch 41/50\n",
      "2000/2000 [==============================] - 0s - loss: 0.0126 - acc: 0.9955 - val_loss: 0.8405 - val_acc: 0.8988\n",
      "Epoch 42/50\n",
      "2000/2000 [==============================] - 0s - loss: 0.0161 - acc: 0.9960 - val_loss: 0.9160 - val_acc: 0.8975\n",
      "Epoch 43/50\n",
      "2000/2000 [==============================] - 0s - loss: 0.0080 - acc: 0.9970 - val_loss: 1.1204 - val_acc: 0.8850\n",
      "Epoch 44/50\n",
      "2000/2000 [==============================] - 0s - loss: 0.0247 - acc: 0.9950 - val_loss: 0.8744 - val_acc: 0.9038\n",
      "Epoch 45/50\n",
      "2000/2000 [==============================] - 0s - loss: 0.0118 - acc: 0.9970 - val_loss: 0.9560 - val_acc: 0.8912\n",
      "Epoch 46/50\n",
      "2000/2000 [==============================] - 0s - loss: 0.0128 - acc: 0.9955 - val_loss: 0.8950 - val_acc: 0.8962\n",
      "Epoch 47/50\n",
      "2000/2000 [==============================] - 0s - loss: 0.0213 - acc: 0.9935 - val_loss: 0.8010 - val_acc: 0.9012\n",
      "Epoch 48/50\n",
      "2000/2000 [==============================] - 0s - loss: 0.0196 - acc: 0.9945 - val_loss: 0.8630 - val_acc: 0.8975\n",
      "Epoch 49/50\n",
      "2000/2000 [==============================] - 0s - loss: 0.0069 - acc: 0.9975 - val_loss: 0.9499 - val_acc: 0.8975\n",
      "Epoch 50/50\n",
      "2000/2000 [==============================] - 0s - loss: 0.0177 - acc: 0.9955 - val_loss: 0.9738 - val_acc: 0.8988\n"
     ]
    }
   ],
   "source": [
    "train_top_model()"
   ]
  }
 ],
 "metadata": {
  "kernelspec": {
   "display_name": "Python 3",
   "language": "python",
   "name": "python3"
  },
  "language_info": {
   "codemirror_mode": {
    "name": "ipython",
    "version": 3
   },
   "file_extension": ".py",
   "mimetype": "text/x-python",
   "name": "python",
   "nbconvert_exporter": "python",
   "pygments_lexer": "ipython3",
   "version": "3.6.2"
  }
 },
 "nbformat": 4,
 "nbformat_minor": 2
}
